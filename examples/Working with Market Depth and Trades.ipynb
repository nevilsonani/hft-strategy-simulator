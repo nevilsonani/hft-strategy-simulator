{
 "cells": [
  {
   "cell_type": "markdown",
   "id": "79d9aaef",
   "metadata": {},
   "source": [
    "# Working with Market Depth and Trades"
   ]
  },
  {
   "cell_type": "markdown",
   "id": "d0585554",
   "metadata": {},
   "source": [
    "## Display 3-depth"
   ]
  },
  {
   "cell_type": "code",
   "execution_count": 1,
   "id": "8bbb4d6f-7a84-4fec-ac56-24a3d2b3d78a",
   "metadata": {},
   "outputs": [],
   "source": [
    "from numba import njit\n",
    "\n",
    "@njit\n",
    "def print_3depth(hbt):\n",
    "    while hbt.elapse(60_000_000_000) == 0:\n",
    "        print('current_timestamp:', hbt.current_timestamp)\n",
    "\n",
    "        # Gets the market depth for the first asset, in the same order as when you created the backtest.\n",
    "        depth = hbt.depth(0)\n",
    "\n",
    "        # a key of bid_depth or ask_depth is price in ticks.\n",
    "        # (integer) price_tick = rice / tick_size\n",
    "        i = 0\n",
    "        for price_tick in range(depth.best_ask_tick, depth.best_ask_tick + 100):\n",
    "            qty = depth.ask_qty_at_tick(price_tick)\n",
    "            if qty > 0:\n",
    "                print(\n",
    "                    'ask: ',\n",
    "                    qty,\n",
    "                    '@',\n",
    "                    np.round(price_tick * depth.tick_size, 1)\n",
    "                )\n",
    "                \n",
    "                i += 1\n",
    "                if i == 3:\n",
    "                    break\n",
    "        i = 0\n",
    "        for price_tick in range(depth.best_bid_tick, max(depth.best_bid_tick - 100, 0), -1):\n",
    "            qty = depth.bid_qty_at_tick(price_tick)\n",
    "            if qty > 0:\n",
    "                print(\n",
    "                    'bid: ',\n",
    "                    qty,\n",
    "                    '@',\n",
    "                    np.round(price_tick * depth.tick_size, 1)\n",
    "                )\n",
    "            \n",
    "                i += 1\n",
    "                if i == 3:\n",
    "                    break\n",
    "    return True"
   ]
  },
  {
   "cell_type": "code",
   "execution_count": 2,
   "id": "0aab2f88",
   "metadata": {},
   "outputs": [],
   "source": [
    "import numpy as np\n",
    "\n",
    "btcusdt_20240809 = np.load('usdm/btcusdt_20240809.npz')['data']\n",
    "btcusdt_20240808_eod = np.load('usdm/btcusdt_20240808_eod.npz')['data']"
   ]
  },
  {
   "cell_type": "code",
   "execution_count": 3,
   "id": "79afc7c0",
   "metadata": {},
   "outputs": [
    {
     "name": "stdout",
     "output_type": "stream",
     "text": [
      "current_timestamp: 1723161661500000000\n",
      "ask:  1.759 @ 61594.2\n",
      "ask:  0.006 @ 61594.4\n",
      "ask:  0.114 @ 61595.2\n",
      "bid:  3.526 @ 61594.1\n",
      "bid:  0.016 @ 61594.0\n",
      "bid:  0.002 @ 61593.9\n",
      "current_timestamp: 1723161721500000000\n",
      "ask:  2.575 @ 61576.6\n",
      "ask:  0.004 @ 61576.7\n",
      "ask:  0.455 @ 61577.0\n",
      "bid:  2.558 @ 61576.5\n",
      "bid:  0.002 @ 61576.0\n",
      "bid:  0.515 @ 61575.5\n",
      "current_timestamp: 1723161781500000000\n",
      "ask:  0.131 @ 61629.7\n",
      "ask:  0.005 @ 61630.1\n",
      "ask:  0.005 @ 61630.5\n",
      "bid:  5.742 @ 61629.6\n",
      "bid:  0.247 @ 61629.4\n",
      "bid:  0.034 @ 61629.3\n",
      "current_timestamp: 1723161841500000000\n",
      "ask:  0.202 @ 61621.6\n",
      "ask:  0.002 @ 61622.5\n",
      "ask:  0.003 @ 61622.6\n",
      "bid:  3.488 @ 61621.5\n",
      "bid:  0.86 @ 61620.0\n",
      "bid:  0.248 @ 61619.6\n",
      "current_timestamp: 1723161901500000000\n",
      "ask:  1.397 @ 61584.0\n",
      "ask:  0.832 @ 61585.1\n",
      "ask:  0.132 @ 61586.0\n",
      "bid:  3.307 @ 61583.9\n",
      "bid:  0.01 @ 61583.8\n",
      "bid:  0.002 @ 61582.0\n"
     ]
    }
   ],
   "source": [
    "from hftbacktest import BacktestAsset, HashMapMarketDepthBacktest\n",
    "\n",
    "asset = (\n",
    "    BacktestAsset()\n",
    "        .data(btcusdt_20240809)\n",
    "        .initial_snapshot(btcusdt_20240808_eod)\n",
    "        .linear_asset(1.0) \n",
    "        .constant_latency(10_000_000, 10_000_000)\n",
    "        .risk_adverse_queue_model() \n",
    "        .no_partial_fill_exchange()\n",
    "        .trading_value_fee_model(0.0002, 0.0007)\n",
    "        .tick_size(0.1)\n",
    "        .lot_size(0.001)\n",
    ")\n",
    "\n",
    "hbt = HashMapMarketDepthBacktest([asset])\n",
    "\n",
    "print_3depth(hbt)\n",
    "\n",
    "_ = hbt.close()"
   ]
  },
  {
   "cell_type": "markdown",
   "id": "354e8fec-95cb-4205-b820-f934fa2d5836",
   "metadata": {},
   "source": [
    "## Efficient Market Depth Access\n",
    "\n",
    "`ROIVectorMarketDepth` provides more efficient market depth access through a vector that holds a limited price range of interest. The backtester using this feature can be created by `ROIVectorMarketDepthBacktest`."
   ]
  },
  {
   "cell_type": "code",
   "execution_count": 4,
   "id": "580a566c-6520-40b0-90ec-c2a933017b52",
   "metadata": {},
   "outputs": [],
   "source": [
    "from numba import njit\n",
    "\n",
    "@njit\n",
    "def print_3depth_fast(hbt):\n",
    "    roi_lb_tick = int(round(30000 / 0.1))\n",
    "    roi_ub_tick = int(round(90000 / 0.1))\n",
    "    \n",
    "    while hbt.elapse(60_000_000_000) == 0:\n",
    "        print('current_timestamp:', hbt.current_timestamp)\n",
    "\n",
    "        # Gets the market depth for the first asset, in the same order as when you created the backtest.\n",
    "        depth = hbt.depth(0)\n",
    "\n",
    "        # a key of bid_depth or ask_depth is price in ticks.\n",
    "        # (integer) price_tick = price / tick_size\n",
    "        i = 0\n",
    "        for price_tick in range(depth.best_ask_tick, depth.best_ask_tick + 100):\n",
    "            # depth.ask_depth returns the ask depth array, whose length is (roi_ub_tick + 1 - roi_lb_tick),\n",
    "            # containing the quantities ranging from roi_lb_tick to roi_ub_tick.\n",
    "            # Checks that the price_tick is in that range and adjust the index by subtracting roi_lb_tick.\n",
    "            if price_tick < roi_lb_tick or price_tick > roi_ub_tick:\n",
    "                continue\n",
    "            t = price_tick - roi_lb_tick\n",
    "            qty = depth.ask_depth[t]\n",
    "            if qty > 0:\n",
    "                print(\n",
    "                    'ask: ',\n",
    "                    qty,\n",
    "                    '@',\n",
    "                    np.round(price_tick * depth.tick_size, 1)\n",
    "                )\n",
    "                \n",
    "                i += 1\n",
    "                if i == 3:\n",
    "                    break\n",
    "        i = 0\n",
    "        for price_tick in range(depth.best_bid_tick, max(depth.best_bid_tick - 100, 0), -1):\n",
    "            # depth.bid_depth returns the bid depth array, whose length is (roi_ub_tick + 1 - roi_lb_tick),\n",
    "            # containing the quantities ranging from roi_lb_tick to roi_ub_tick.\n",
    "            # Checks that the price_tick is in that range and adjust the index by subtracting roi_lb_tick.\n",
    "            if price_tick < roi_lb_tick or price_tick > roi_ub_tick:\n",
    "                continue\n",
    "            t = price_tick - roi_lb_tick\n",
    "            qty = depth.bid_depth[t]\n",
    "            if qty > 0:\n",
    "                print(\n",
    "                    'bid: ',\n",
    "                    qty,\n",
    "                    '@',\n",
    "                    np.round(price_tick * depth.tick_size, 1)\n",
    "                )\n",
    "            \n",
    "                i += 1\n",
    "                if i == 3:\n",
    "                    break\n",
    "    return True"
   ]
  },
  {
   "cell_type": "code",
   "execution_count": 5,
   "id": "94d2e7a7-9179-4380-8e18-661833a4b95f",
   "metadata": {},
   "outputs": [],
   "source": [
    "from hftbacktest import ROIVectorMarketDepthBacktest\n",
    "\n",
    "asset = (\n",
    "    BacktestAsset()\n",
    "        .data(btcusdt_20240809)\n",
    "        .initial_snapshot(btcusdt_20240808_eod)\n",
    "        .linear_asset(1.0) \n",
    "        .constant_latency(10_000_000, 10_000_000)\n",
    "        .risk_adverse_queue_model() \n",
    "        .no_partial_fill_exchange()\n",
    "        .trading_value_fee_model(0.0002, 0.0007)\n",
    "        .tick_size(0.1)\n",
    "        .lot_size(0.001)\n",
    "        # Sets the lower bound price for the range of interest in the market depth.\n",
    "        .roi_lb(30000)\n",
    "        # Sets the upper bound price for the range of interest in the market depth.\n",
    "        .roi_ub(90000)\n",
    ")\n",
    "\n"
   ]
  },
  {
   "cell_type": "code",
   "execution_count": 6,
   "id": "a8e2b8bc-eb4f-4401-9d1c-d4e5428708e4",
   "metadata": {},
   "outputs": [
    {
     "name": "stdout",
     "output_type": "stream",
     "text": [
      "current_timestamp: 1723161661500000000\n",
      "ask:  1.759 @ 61594.2\n",
      "ask:  0.006 @ 61594.4\n",
      "ask:  0.114 @ 61595.2\n",
      "bid:  3.526 @ 61594.1\n",
      "bid:  0.016 @ 61594.0\n",
      "bid:  0.002 @ 61593.9\n",
      "current_timestamp: 1723161721500000000\n",
      "ask:  2.575 @ 61576.6\n",
      "ask:  0.004 @ 61576.7\n",
      "ask:  0.455 @ 61577.0\n",
      "bid:  2.558 @ 61576.5\n",
      "bid:  0.002 @ 61576.0\n",
      "bid:  0.515 @ 61575.5\n",
      "current_timestamp: 1723161781500000000\n",
      "ask:  0.131 @ 61629.7\n",
      "ask:  0.005 @ 61630.1\n",
      "ask:  0.005 @ 61630.5\n",
      "bid:  5.742 @ 61629.6\n",
      "bid:  0.247 @ 61629.4\n",
      "bid:  0.034 @ 61629.3\n",
      "current_timestamp: 1723161841500000000\n",
      "ask:  0.202 @ 61621.6\n",
      "ask:  0.002 @ 61622.5\n",
      "ask:  0.003 @ 61622.6\n",
      "bid:  3.488 @ 61621.5\n",
      "bid:  0.86 @ 61620.0\n",
      "bid:  0.248 @ 61619.6\n",
      "current_timestamp: 1723161901500000000\n",
      "ask:  1.397 @ 61584.0\n",
      "ask:  0.832 @ 61585.1\n",
      "ask:  0.132 @ 61586.0\n",
      "bid:  3.307 @ 61583.9\n",
      "bid:  0.01 @ 61583.8\n",
      "bid:  0.002 @ 61582.0\n"
     ]
    }
   ],
   "source": [
    "hbt = ROIVectorMarketDepthBacktest([asset])\n",
    "\n",
    "print_3depth_fast(hbt)\n",
    "\n",
    "_ = hbt.close()"
   ]
  },
  {
   "cell_type": "markdown",
   "id": "a8f00571",
   "metadata": {},
   "source": [
    "## Order Book Imbalance"
   ]
  },
  {
   "cell_type": "code",
   "execution_count": 7,
   "id": "e8d55680",
   "metadata": {},
   "outputs": [],
   "source": [
    "@njit\n",
    "def orderbookimbalance(hbt, out):\n",
    "    roi_lb_tick = int(round(30000 / 0.1))\n",
    "    roi_ub_tick = int(round(90000 / 0.1))\n",
    "\n",
    "    while hbt.elapse(10 * 1e9) == 0:\n",
    "        depth = hbt.depth(0)\n",
    "        \n",
    "        mid_price = (depth.best_bid + depth.best_ask) / 2.0\n",
    "        \n",
    "        sum_ask_qty_50bp = 0.0\n",
    "        sum_ask_qty = 0.0\n",
    "        for price_tick in range(depth.best_ask_tick, roi_ub_tick + 1):\n",
    "            if price_tick < roi_lb_tick or price_tick > roi_ub_tick:\n",
    "                continue\n",
    "            t = price_tick - roi_lb_tick\n",
    "            \n",
    "            ask_price = price_tick * depth.tick_size\n",
    "            depth_from_mid = (ask_price - mid_price) / mid_price\n",
    "            if depth_from_mid > 0.01:\n",
    "                break\n",
    "            sum_ask_qty += depth.ask_depth[t]\n",
    "            \n",
    "            if depth_from_mid <= 0.005:\n",
    "                sum_ask_qty_50bp = sum_ask_qty\n",
    "                \n",
    "                \n",
    "        sum_bid_qty_50bp = 0.0\n",
    "        sum_bid_qty = 0.0\n",
    "        for price_tick in range(depth.best_bid_tick, roi_lb_tick - 1, -1):\n",
    "            if price_tick < roi_lb_tick or price_tick > roi_ub_tick:\n",
    "                continue\n",
    "            t = price_tick - roi_lb_tick\n",
    "            \n",
    "            bid_price = price_tick * depth.tick_size\n",
    "            depth_from_mid = (mid_price - bid_price) / mid_price\n",
    "            if depth_from_mid > 0.01:\n",
    "                break\n",
    "            sum_bid_qty += depth.bid_depth[t]\n",
    "            \n",
    "            if depth_from_mid <= 0.005:\n",
    "                sum_bid_qty_50bp = sum_bid_qty\n",
    "                \n",
    "        imbalance_50bp = sum_bid_qty_50bp - sum_ask_qty_50bp\n",
    "        imbalance_1pct = sum_bid_qty - sum_ask_qty\n",
    "        imbalance_tob = depth.bid_depth[depth.best_bid_tick - roi_lb_tick] - depth.ask_depth[depth.best_ask_tick - roi_lb_tick]\n",
    "        \n",
    "        out.append((hbt.current_timestamp, imbalance_tob, imbalance_50bp, imbalance_1pct))        \n",
    "    return True"
   ]
  },
  {
   "cell_type": "code",
   "execution_count": 8,
   "id": "99a684f8",
   "metadata": {},
   "outputs": [],
   "source": [
    "from numba.typed import List\n",
    "from numba.types import Tuple, float64\n",
    "\n",
    "hbt = ROIVectorMarketDepthBacktest([asset])\n",
    "\n",
    "tup_ty = Tuple((float64, float64, float64, float64))\n",
    "out = List.empty_list(tup_ty, allocated=100_000)\n",
    "\n",
    "orderbookimbalance(hbt, out)\n",
    "\n",
    "_ = hbt.close()"
   ]
  },
  {
   "cell_type": "code",
   "execution_count": 9,
   "id": "be1b53b2",
   "metadata": {},
   "outputs": [
    {
     "data": {
      "text/html": [
       "<div><style>\n",
       ".dataframe > thead > tr,\n",
       ".dataframe > tbody > tr {\n",
       "  text-align: right;\n",
       "  white-space: pre-wrap;\n",
       "}\n",
       "</style>\n",
       "<small>shape: (30, 4)</small><table border=\"1\" class=\"dataframe\"><thead><tr><th>Local Timestamp</th><th>TOB Imbalance</th><th>0.5% Imbalance</th><th>1% Imbalance</th></tr><tr><td>datetime[ns]</td><td>f64</td><td>f64</td><td>f64</td></tr></thead><tbody><tr><td>2024-08-09&nbsp;00:00:11.500</td><td>2.729</td><td>-1748.101</td><td>-3908.736</td></tr><tr><td>2024-08-09&nbsp;00:00:21.500</td><td>4.623</td><td>-1749.435</td><td>-3512.845</td></tr><tr><td>2024-08-09&nbsp;00:00:31.500</td><td>-6.465</td><td>-1259.897</td><td>-3357.755</td></tr><tr><td>2024-08-09&nbsp;00:00:41.500</td><td>-7.922</td><td>-1174.185</td><td>-3471.955</td></tr><tr><td>2024-08-09&nbsp;00:00:51.500</td><td>-2.484</td><td>-1147.597</td><td>-3461.48</td></tr><tr><td>&hellip;</td><td>&hellip;</td><td>&hellip;</td><td>&hellip;</td></tr><tr><td>2024-08-09&nbsp;00:04:21.500</td><td>3.828</td><td>-1186.236</td><td>-3551.78</td></tr><tr><td>2024-08-09&nbsp;00:04:31.500</td><td>-1.35</td><td>-1332.379</td><td>-3517.854</td></tr><tr><td>2024-08-09&nbsp;00:04:41.500</td><td>-3.754</td><td>-1166.521</td><td>-2693.672</td></tr><tr><td>2024-08-09&nbsp;00:04:51.500</td><td>-2.525</td><td>-1188.56</td><td>-2716.914</td></tr><tr><td>2024-08-09&nbsp;00:05:01.500</td><td>1.91</td><td>-594.991</td><td>-2138.82</td></tr></tbody></table></div>"
      ],
      "text/plain": [
       "shape: (30, 4)\n",
       "┌─────────────────────────┬───────────────┬────────────────┬──────────────┐\n",
       "│ Local Timestamp         ┆ TOB Imbalance ┆ 0.5% Imbalance ┆ 1% Imbalance │\n",
       "│ ---                     ┆ ---           ┆ ---            ┆ ---          │\n",
       "│ datetime[ns]            ┆ f64           ┆ f64            ┆ f64          │\n",
       "╞═════════════════════════╪═══════════════╪════════════════╪══════════════╡\n",
       "│ 2024-08-09 00:00:11.500 ┆ 2.729         ┆ -1748.101      ┆ -3908.736    │\n",
       "│ 2024-08-09 00:00:21.500 ┆ 4.623         ┆ -1749.435      ┆ -3512.845    │\n",
       "│ 2024-08-09 00:00:31.500 ┆ -6.465        ┆ -1259.897      ┆ -3357.755    │\n",
       "│ 2024-08-09 00:00:41.500 ┆ -7.922        ┆ -1174.185      ┆ -3471.955    │\n",
       "│ 2024-08-09 00:00:51.500 ┆ -2.484        ┆ -1147.597      ┆ -3461.48     │\n",
       "│ …                       ┆ …             ┆ …              ┆ …            │\n",
       "│ 2024-08-09 00:04:21.500 ┆ 3.828         ┆ -1186.236      ┆ -3551.78     │\n",
       "│ 2024-08-09 00:04:31.500 ┆ -1.35         ┆ -1332.379      ┆ -3517.854    │\n",
       "│ 2024-08-09 00:04:41.500 ┆ -3.754        ┆ -1166.521      ┆ -2693.672    │\n",
       "│ 2024-08-09 00:04:51.500 ┆ -2.525        ┆ -1188.56       ┆ -2716.914    │\n",
       "│ 2024-08-09 00:05:01.500 ┆ 1.91          ┆ -594.991       ┆ -2138.82     │\n",
       "└─────────────────────────┴───────────────┴────────────────┴──────────────┘"
      ]
     },
     "execution_count": 9,
     "metadata": {},
     "output_type": "execute_result"
    }
   ],
   "source": [
    "import polars as pl\n",
    "\n",
    "df = pl.DataFrame(out).transpose()\n",
    "df.columns = ['Local Timestamp', 'TOB Imbalance', '0.5% Imbalance', '1% Imbalance']\n",
    "df = df.with_columns(\n",
    "    pl.from_epoch('Local Timestamp', time_unit='ns')\n",
    ")\n",
    "\n",
    "df"
   ]
  },
  {
   "cell_type": "code",
   "execution_count": 10,
   "id": "f3b43c9f",
   "metadata": {},
   "outputs": [
    {
     "data": {
      "text/plain": [
       "[<matplotlib.lines.Line2D at 0x7f01eaf10520>]"
      ]
     },
     "execution_count": 10,
     "metadata": {},
     "output_type": "execute_result"
    },
    {
     "data": {
      "image/png": "[encoded data removed]",
      "text/plain": [
       "<Figure size 640x480 with 1 Axes>"
      ]
     },
     "metadata": {},
     "output_type": "display_data"
    }
   ],
   "source": [
    "from matplotlib import pyplot\n",
    "\n",
    "pyplot.plot(df['Local Timestamp'], df['TOB Imbalance'])\n",
    "pyplot.plot(df['Local Timestamp'], df['0.5% Imbalance'])\n",
    "pyplot.plot(df['Local Timestamp'], df['1% Imbalance'])"
   ]
  },
  {
   "cell_type": "markdown",
   "id": "d5a9d4a3",
   "metadata": {},
   "source": [
    "## Display last trades between the step"
   ]
  },
  {
   "cell_type": "code",
   "execution_count": 11,
   "id": "71dd4f1a",
   "metadata": {},
   "outputs": [],
   "source": [
    "from hftbacktest import BUY_EVENT\n",
    "\n",
    "@njit\n",
    "def print_trades(hbt):\n",
    "    while hbt.elapse(60 * 1e9) == 0:\n",
    "        print('-------------------------------------------------------------------------------')\n",
    "        print('current_timestamp:', hbt.current_timestamp)\n",
    "\n",
    "        # Gets the last trades occurring in the market, not the trades of our orders.\n",
    "        last_trades = hbt.last_trades(0)\n",
    "        \n",
    "        num = 0\n",
    "        for last_trade in last_trades:\n",
    "            if num > 10:\n",
    "                print('...')\n",
    "                break\n",
    "            print(\n",
    "                'exch_timestamp:',\n",
    "                last_trade.exch_ts,\n",
    "                'buy' if (last_trade.ev & BUY_EVENT) == BUY_EVENT else 'sell',\n",
    "                last_trade.qty,\n",
    "                '@',\n",
    "                last_trade.px\n",
    "            )\n",
    "            num += 1\n",
    "\n",
    "        # To prevent accumulating all last trades, which may cause a slowdown,\n",
    "        # clear_last_trades needs to be called.\n",
    "        # After this, accessing `last_trades` will cause a crash.\n",
    "        hbt.clear_last_trades(0)\n",
    "    return True"
   ]
  },
  {
   "cell_type": "code",
   "execution_count": 12,
   "id": "0d37656a",
   "metadata": {},
   "outputs": [
    {
     "name": "stdout",
     "output_type": "stream",
     "text": [
      "-------------------------------------------------------------------------------\n",
      "current_timestamp: 1723161661500000000\n",
      "exch_timestamp: 1723161602372000000 buy 0.489 @ 61659.8\n",
      "exch_timestamp: 1723161602372000000 buy 0.198 @ 61659.8\n",
      "exch_timestamp: 1723161602372000000 buy 0.006 @ 61659.8\n",
      "exch_timestamp: 1723161602372000000 buy 0.002 @ 61659.8\n",
      "exch_timestamp: 1723161602372000000 buy 0.003 @ 61659.8\n",
      "exch_timestamp: 1723161602372000000 buy 0.011 @ 61659.8\n",
      "exch_timestamp: 1723161602372000000 buy 0.238 @ 61659.8\n",
      "exch_timestamp: 1723161602372000000 buy 0.007 @ 61659.8\n",
      "exch_timestamp: 1723161602372000000 buy 0.005 @ 61659.8\n",
      "exch_timestamp: 1723161602372000000 buy 0.003 @ 61659.8\n",
      "exch_timestamp: 1723161602372000000 buy 0.002 @ 61659.8\n",
      "...\n",
      "-------------------------------------------------------------------------------\n",
      "current_timestamp: 1723161721500000000\n",
      "exch_timestamp: 1723161661697000000 sell 0.002 @ 61594.1\n",
      "exch_timestamp: 1723161661724000000 sell 0.002 @ 61594.1\n",
      "exch_timestamp: 1723161661751000000 buy 0.135 @ 61594.2\n",
      "exch_timestamp: 1723161661806000000 sell 1.328 @ 61594.1\n",
      "exch_timestamp: 1723161661806000000 sell 0.002 @ 61594.1\n",
      "exch_timestamp: 1723161661806000000 sell 0.002 @ 61594.1\n",
      "exch_timestamp: 1723161661806000000 sell 0.002 @ 61594.1\n",
      "exch_timestamp: 1723161661806000000 sell 0.006 @ 61594.1\n",
      "exch_timestamp: 1723161661806000000 sell 0.32 @ 61594.1\n",
      "exch_timestamp: 1723161661806000000 sell 0.032 @ 61594.1\n",
      "exch_timestamp: 1723161661806000000 sell 1.208 @ 61594.1\n",
      "...\n",
      "-------------------------------------------------------------------------------\n",
      "current_timestamp: 1723161781500000000\n",
      "exch_timestamp: 1723161721541000000 sell 0.002 @ 61576.5\n",
      "exch_timestamp: 1723161721574000000 buy 0.012 @ 61576.6\n",
      "exch_timestamp: 1723161721578000000 sell 0.003 @ 61576.5\n",
      "exch_timestamp: 1723161721583000000 buy 0.275 @ 61576.6\n",
      "exch_timestamp: 1723161721583000000 buy 0.469 @ 61576.6\n",
      "exch_timestamp: 1723161721585000000 buy 0.095 @ 61576.6\n",
      "exch_timestamp: 1723161721585000000 buy 0.102 @ 61576.6\n",
      "exch_timestamp: 1723161721585000000 buy 0.197 @ 61576.6\n",
      "exch_timestamp: 1723161721586000000 buy 0.13 @ 61576.6\n",
      "exch_timestamp: 1723161721587000000 buy 0.425 @ 61576.6\n",
      "exch_timestamp: 1723161721587000000 buy 0.324 @ 61576.6\n",
      "...\n",
      "-------------------------------------------------------------------------------\n",
      "current_timestamp: 1723161841500000000\n",
      "exch_timestamp: 1723161781628000000 sell 0.026 @ 61629.6\n",
      "exch_timestamp: 1723161781727000000 buy 0.011 @ 61629.7\n",
      "exch_timestamp: 1723161781727000000 buy 0.05 @ 61629.7\n",
      "exch_timestamp: 1723161781727000000 buy 0.006 @ 61629.7\n",
      "exch_timestamp: 1723161781727000000 buy 0.002 @ 61629.7\n",
      "exch_timestamp: 1723161781727000000 buy 0.007 @ 61629.7\n",
      "exch_timestamp: 1723161781727000000 buy 0.002 @ 61629.7\n",
      "exch_timestamp: 1723161781727000000 buy 0.075 @ 61629.7\n",
      "exch_timestamp: 1723161781727000000 buy 0.065 @ 61629.7\n",
      "exch_timestamp: 1723161781727000000 buy 0.247 @ 61629.7\n",
      "exch_timestamp: 1723161781727000000 buy 0.002 @ 61629.7\n",
      "...\n",
      "-------------------------------------------------------------------------------\n",
      "current_timestamp: 1723161901500000000\n",
      "exch_timestamp: 1723161841561000000 buy 0.01 @ 61621.6\n",
      "exch_timestamp: 1723161841561000000 buy 0.006 @ 61621.6\n",
      "exch_timestamp: 1723161841561000000 buy 0.002 @ 61621.6\n",
      "exch_timestamp: 1723161841561000000 buy 0.022 @ 61621.6\n",
      "exch_timestamp: 1723161841561000000 buy 0.097 @ 61621.6\n",
      "exch_timestamp: 1723161841561000000 buy 0.024 @ 61621.6\n",
      "exch_timestamp: 1723161841564000000 buy 0.024 @ 61621.6\n",
      "exch_timestamp: 1723161841564000000 buy 0.014 @ 61621.6\n",
      "exch_timestamp: 1723161841565000000 buy 0.003 @ 61621.6\n",
      "exch_timestamp: 1723161841613000000 buy 0.002 @ 61622.5\n",
      "exch_timestamp: 1723161841613000000 buy 0.003 @ 61622.6\n",
      "...\n"
     ]
    }
   ],
   "source": [
    "asset = (\n",
    "    BacktestAsset()\n",
    "        .data(btcusdt_20240809)\n",
    "        .initial_snapshot(btcusdt_20240808_eod)\n",
    "        .linear_asset(1.0) \n",
    "        .constant_latency(10_000_000, 10_000_000)\n",
    "        .risk_adverse_queue_model() \n",
    "        .no_partial_fill_exchange()\n",
    "        .trading_value_fee_model(0.0002, 0.0007)\n",
    "        .tick_size(0.1)\n",
    "        .lot_size(0.001)\n",
    "        # To retrieve the last trades, `last_trades_capacity` should be set.\n",
    "        .last_trades_capacity(1000)\n",
    "        .roi_lb(30000)\n",
    "        .roi_ub(90000)\n",
    ")\n",
    "\n",
    "hbt = ROIVectorMarketDepthBacktest([asset])\n",
    "\n",
    "print_trades(hbt)\n",
    "\n",
    "_ = hbt.close()"
   ]
  },
  {
   "cell_type": "markdown",
   "id": "a37694e1",
   "metadata": {},
   "source": [
    "## Rolling Volume-Weighted Average Price"
   ]
  },
  {
   "cell_type": "code",
   "execution_count": 13,
   "id": "002fa805",
   "metadata": {},
   "outputs": [],
   "source": [
    "@njit\n",
    "def rolling_vwap(hbt, out):\n",
    "    buy_amount_bin = np.zeros(100_000, np.float64)\n",
    "    buy_qty_bin = np.zeros(100_000, np.float64)\n",
    "    sell_amount_bin = np.zeros(100_000, np.float64)\n",
    "    sell_qty_bin = np.zeros(100_000, np.float64)\n",
    "    \n",
    "    idx = 0\n",
    "    last_trade_price = np.nan\n",
    "    \n",
    "    while hbt.elapse(10 * 1e9) == 0:\n",
    "        last_trades = hbt.last_trades(0)\n",
    "        \n",
    "        for last_trade in last_trades:\n",
    "            if (last_trade.ev & BUY_EVENT) == BUY_EVENT:\n",
    "                buy_amount_bin[idx] += last_trade.px * last_trade.qty\n",
    "                buy_qty_bin[idx] += last_trade.qty\n",
    "            else:\n",
    "                sell_amount_bin[idx] += last_trade.px * last_trade.qty\n",
    "                sell_qty_bin[idx] += last_trade.qty\n",
    "                \n",
    "        hbt.clear_last_trades(0)\n",
    "        idx += 1\n",
    "\n",
    "        if idx >= 1:\n",
    "            vwap10sec = np.divide(\n",
    "                buy_amount_bin[idx - 1] + sell_amount_bin[idx - 1], \n",
    "                buy_qty_bin[idx - 1] + sell_qty_bin[idx - 1]\n",
    "            )\n",
    "        else:\n",
    "            vwap10sec = np.nan\n",
    "        \n",
    "        if idx >= 6:\n",
    "            vwap1m = np.divide(\n",
    "                np.sum(buy_amount_bin[idx - 6:idx]) + np.sum(sell_amount_bin[idx - 6:idx]), \n",
    "                np.sum(buy_qty_bin[idx - 6:idx]) + np.sum(sell_qty_bin[idx - 6:idx])\n",
    "            )\n",
    "            buy_vwap1m = np.divide(np.sum(buy_amount_bin[idx - 6:idx]), np.sum(buy_qty_bin[idx - 6:idx]))\n",
    "            sell_vwap1m = np.divide(np.sum(sell_amount_bin[idx - 6:idx]), np.sum(sell_qty_bin[idx - 6:idx]))\n",
    "        else:\n",
    "            vwap1m = np.nan\n",
    "            buy_vwap1m = np.nan\n",
    "            sell_vwap1m = np.nan\n",
    "        \n",
    "        out.append((hbt.current_timestamp, vwap10sec, vwap1m, buy_vwap1m, sell_vwap1m))\n",
    "    return True"
   ]
  },
  {
   "cell_type": "code",
   "execution_count": 14,
   "id": "f90739a8",
   "metadata": {},
   "outputs": [],
   "source": [
    "hbt = ROIVectorMarketDepthBacktest([asset])\n",
    "\n",
    "tup_ty = Tuple((float64, float64, float64, float64, float64))\n",
    "out = List.empty_list(tup_ty, allocated=100_000)\n",
    "\n",
    "rolling_vwap(hbt, out)\n",
    "\n",
    "_ = hbt.close()"
   ]
  },
  {
   "cell_type": "code",
   "execution_count": 15,
   "id": "f2ab6bd3",
   "metadata": {},
   "outputs": [
    {
     "data": {
      "text/html": [
       "<div><style>\n",
       ".dataframe > thead > tr,\n",
       ".dataframe > tbody > tr {\n",
       "  text-align: right;\n",
       "  white-space: pre-wrap;\n",
       "}\n",
       "</style>\n",
       "<small>shape: (30, 5)</small><table border=\"1\" class=\"dataframe\"><thead><tr><th>Local Timestamp</th><th>10-sec VWAP</th><th>1-min VWAP</th><th>1-min Buy VWAP</th><th>1-min Sell VWAP</th></tr><tr><td>datetime[ns]</td><td>f64</td><td>f64</td><td>f64</td><td>f64</td></tr></thead><tbody><tr><td>2024-08-09&nbsp;00:00:11.500</td><td>61687.182976</td><td>NaN</td><td>NaN</td><td>NaN</td></tr><tr><td>2024-08-09&nbsp;00:00:21.500</td><td>61709.337576</td><td>NaN</td><td>NaN</td><td>NaN</td></tr><tr><td>2024-08-09&nbsp;00:00:31.500</td><td>61697.538054</td><td>NaN</td><td>NaN</td><td>NaN</td></tr><tr><td>2024-08-09&nbsp;00:00:41.500</td><td>61663.958879</td><td>NaN</td><td>NaN</td><td>NaN</td></tr><tr><td>2024-08-09&nbsp;00:00:51.500</td><td>61637.340621</td><td>NaN</td><td>NaN</td><td>NaN</td></tr><tr><td>&hellip;</td><td>&hellip;</td><td>&hellip;</td><td>&hellip;</td><td>&hellip;</td></tr><tr><td>2024-08-09&nbsp;00:04:21.500</td><td>61643.009847</td><td>61624.459011</td><td>61626.495542</td><td>61622.549429</td></tr><tr><td>2024-08-09&nbsp;00:04:31.500</td><td>61670.795685</td><td>61635.877251</td><td>61638.362314</td><td>61632.48854</td></tr><tr><td>2024-08-09&nbsp;00:04:41.500</td><td>61643.108582</td><td>61641.846489</td><td>61648.672337</td><td>61636.032054</td></tr><tr><td>2024-08-09&nbsp;00:04:51.500</td><td>61614.723569</td><td>61640.490841</td><td>61647.769844</td><td>61634.372128</td></tr><tr><td>2024-08-09&nbsp;00:05:01.500</td><td>61584.697467</td><td>61637.334102</td><td>61642.209551</td><td>61632.12064</td></tr></tbody></table></div>"
      ],
      "text/plain": [
       "shape: (30, 5)\n",
       "┌─────────────────────────┬──────────────┬──────────────┬────────────────┬─────────────────┐\n",
       "│ Local Timestamp         ┆ 10-sec VWAP  ┆ 1-min VWAP   ┆ 1-min Buy VWAP ┆ 1-min Sell VWAP │\n",
       "│ ---                     ┆ ---          ┆ ---          ┆ ---            ┆ ---             │\n",
       "│ datetime[ns]            ┆ f64          ┆ f64          ┆ f64            ┆ f64             │\n",
       "╞═════════════════════════╪══════════════╪══════════════╪════════════════╪═════════════════╡\n",
       "│ 2024-08-09 00:00:11.500 ┆ 61687.182976 ┆ NaN          ┆ NaN            ┆ NaN             │\n",
       "│ 2024-08-09 00:00:21.500 ┆ 61709.337576 ┆ NaN          ┆ NaN            ┆ NaN             │\n",
       "│ 2024-08-09 00:00:31.500 ┆ 61697.538054 ┆ NaN          ┆ NaN            ┆ NaN             │\n",
       "│ 2024-08-09 00:00:41.500 ┆ 61663.958879 ┆ NaN          ┆ NaN            ┆ NaN             │\n",
       "│ 2024-08-09 00:00:51.500 ┆ 61637.340621 ┆ NaN          ┆ NaN            ┆ NaN             │\n",
       "│ …                       ┆ …            ┆ …            ┆ …              ┆ …               │\n",
       "│ 2024-08-09 00:04:21.500 ┆ 61643.009847 ┆ 61624.459011 ┆ 61626.495542   ┆ 61622.549429    │\n",
       "│ 2024-08-09 00:04:31.500 ┆ 61670.795685 ┆ 61635.877251 ┆ 61638.362314   ┆ 61632.48854     │\n",
       "│ 2024-08-09 00:04:41.500 ┆ 61643.108582 ┆ 61641.846489 ┆ 61648.672337   ┆ 61636.032054    │\n",
       "│ 2024-08-09 00:04:51.500 ┆ 61614.723569 ┆ 61640.490841 ┆ 61647.769844   ┆ 61634.372128    │\n",
       "│ 2024-08-09 00:05:01.500 ┆ 61584.697467 ┆ 61637.334102 ┆ 61642.209551   ┆ 61632.12064     │\n",
       "└─────────────────────────┴──────────────┴──────────────┴────────────────┴─────────────────┘"
      ]
     },
     "execution_count": 15,
     "metadata": {},
     "output_type": "execute_result"
    }
   ],
   "source": [
    "df = pl.DataFrame(out).transpose()\n",
    "df.columns = ['Local Timestamp', '10-sec VWAP', '1-min VWAP', '1-min Buy VWAP', '1-min Sell VWAP']\n",
    "df = df.with_columns(\n",
    "    pl.from_epoch('Local Timestamp', time_unit='ns')\n",
    ")\n",
    "\n",
    "df"
   ]
  },
  {
   "cell_type": "code",
   "execution_count": 16,
   "id": "f23d4a4e",
   "metadata": {},
   "outputs": [
    {
     "data": {
      "text/plain": [
       "[<matplotlib.lines.Line2D at 0x7f01b995e0b0>]"
      ]
     },
     "execution_count": 16,
     "metadata": {},
     "output_type": "execute_result"
    },
    {
     "data": {
      "image/png": "[encoded data removed]",
      "text/plain": [
       "<Figure size 640x480 with 1 Axes>"
      ]
     },
     "metadata": {},
     "output_type": "display_data"
    }
   ],
   "source": [
    "pyplot.plot(df['Local Timestamp'], df['10-sec VWAP'])\n",
    "pyplot.plot(df['Local Timestamp'], df['1-min VWAP'])\n",
    "pyplot.plot(df['Local Timestamp'], df['1-min Buy VWAP'])\n",
    "pyplot.plot(df['Local Timestamp'], df['1-min Sell VWAP'])"
   ]
  }
 ],
 "metadata": {
  "kernelspec": {
   "display_name": "Python 3 (ipykernel)",
   "language": "python",
   "name": "python3"
  },
  "language_info": {
   "codemirror_mode": {
    "name": "ipython",
    "version": 3
   },
   "file_extension": ".py",
   "mimetype": "text/x-python",
   "name": "python",
   "nbconvert_exporter": "python",
   "pygments_lexer": "ipython3",
   "version": "3.10.14"
  }
 },
 "nbformat": 4,
 "nbformat_minor": 5
}
