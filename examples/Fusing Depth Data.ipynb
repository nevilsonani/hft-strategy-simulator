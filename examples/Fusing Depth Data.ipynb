{
 "cells": [
  {
   "cell_type": "markdown",
   "id": "5d52a609-d49e-4d08-8c35-716cb82add2f",
   "metadata": {},
   "source": [
    "# Fusing Depth Data\n",
    "\n",
    "## Overview\n",
    "\n",
    "Most cryptocurrency exchanges do not deliver true tick-by-tick Level-2 data. Instead, they provide conflated feeds in which individual order-book updates are aggregated over short intervals. For example, Binance Futures’ `depth@0ms` stream is still aggregated: You can confirm that its best-bid-offer (BBO) values update less frequently than those in the `bookTicker` stream, which captures every BBO change. Other venues state similar limitations explicitly—Bybit, for instance, publishes the Level 1 data (BBO) every 10ms, the Level 50 data every 20ms, and the Level 200 data every 100ms.\n",
    "\n",
    "To generate accurate fill simulations and realistic backtesting results, you must therefore fuse multiple depth streams into a single feed that preserves the highest possible update frequency and granularity.\n",
    "\n",
    "Let’s see Binance Futures as our example."
   ]
  },
  {
   "cell_type": "markdown",
   "id": "05735dd5-7303-4dbb-9dba-83579959059e",
   "metadata": {},
   "source": [
    "## Data Preparation"
   ]
  },
  {
   "cell_type": "code",
   "execution_count": 1,
   "id": "d698450c-ca49-438d-9613-2aa71cb4e62b",
   "metadata": {},
   "outputs": [],
   "source": [
    "!wget https://datasets.tardis.dev/v1/binance-futures/trades/2025/05/01/BTCUSDT.csv.gz -O BTCUSDT_trades_20250501.csv.gz\n",
    "!wget https://datasets.tardis.dev/v1/binance-futures/incremental_book_L2/2025/05/01/BTCUSDT.csv.gz -O BTCUSDT_incremental_book_L2_20250501.csv.gz\n",
    "!wget https://datasets.tardis.dev/v1/binance-futures/book_ticker/2025/05/01/BTCUSDT.csv.gz -O BTCUSDT_book_ticker_20250501.csv.gz"
   ]
  },
  {
   "cell_type": "code",
   "execution_count": 2,
   "id": "29fffc16-5de9-48a1-93e9-65d25fdab664",
   "metadata": {},
   "outputs": [
    {
     "name": "stdout",
     "output_type": "stream",
     "text": [
      "Reading BTCUSDT_incremental_book_L2_20250501.csv.gz\n",
      "Reading BTCUSDT_trades_20250501.csv.gz\n",
      "Correcting the latency\n",
      "Correcting the event order\n",
      "Saving to BTCUSDT_20250501.npz\n"
     ]
    },
    {
     "data": {
      "text/plain": [
       "array([(3758096386, 1746057600043000000, 1746057600046245000, 94125.2, 1.0000e-02, 0, 0, 0.),\n",
       "       (3758096387, 1746057600072000000, 1746057601025373000, 93954.8, 0.0000e+00, 0, 0, 0.),\n",
       "       (3758096388, 1746057600072000000, 1746057601025373000, 94125.1, 1.0798e+01, 0, 0, 0.),\n",
       "       ...,\n",
       "       (3758096385, 1746143999978000000, 1746143999980195000, 96406. , 1.5590e+00, 0, 0, 0.),\n",
       "       (3758096385, 1746143999978000000, 1746143999980195000, 96411.2, 6.1000e-02, 0, 0, 0.),\n",
       "       (3758096385, 1746143999978000000, 1746143999980195000, 96423.2, 1.0130e+01, 0, 0, 0.)],\n",
       "      dtype={'names': ['ev', 'exch_ts', 'local_ts', 'px', 'qty', 'order_id', 'ival', 'fval'], 'formats': ['<u8', '<i8', '<i8', '<f8', '<f8', '<u8', '<i8', '<f8'], 'offsets': [0, 8, 16, 24, 32, 40, 48, 56], 'itemsize': 64, 'aligned': True})"
      ]
     },
     "execution_count": 2,
     "metadata": {},
     "output_type": "execute_result"
    }
   ],
   "source": [
    "from hftbacktest.data.utils import tardis\n",
    "\n",
    "tardis.convert(\n",
    "    [\n",
    "        'BTCUSDT_incremental_book_L2_20250501.csv.gz',\n",
    "        'BTCUSDT_trades_20250501.csv.gz'\n",
    "    ],\n",
    "    output_filename='BTCUSDT_20250501.npz',\n",
    "    buffer_size=1_000_000_000,\n",
    "    snapshot_mode='process'\n",
    ")"
   ]
  },
  {
   "cell_type": "markdown",
   "id": "e30babac-3351-4d60-94e8-a22532a643af",
   "metadata": {},
   "source": [
    "Use the backtester to replay the data, get the BBO values from the Level-2 depth feed to compare it with the BBO obtained from the book ticker stream."
   ]
  },
  {
   "cell_type": "code",
   "execution_count": 3,
   "id": "75d6bec1-8b47-4f56-85e1-28146a14758b",
   "metadata": {},
   "outputs": [],
   "source": [
    "import numpy as np\n",
    "from numba import njit\n",
    "from hftbacktest import (\n",
    "    BacktestAsset,\n",
    "    ROIVectorMarketDepthBacktest\n",
    ")\n",
    "\n",
    "@njit\n",
    "def record_l2_bbo(\n",
    "    hbt,\n",
    "    timeout\n",
    "):\n",
    "    asset_no = 0\n",
    "    t = 0\n",
    "    l2_bbo = np.full((30_000_000, 5), np.nan, np.float64)\n",
    "    prev_best_bid = np.nan\n",
    "    prev_best_ask = np.nan\n",
    "    prev_best_bid_qty = np.nan\n",
    "    prev_best_ask_qty = np.nan\n",
    "\n",
    "    # 0: Timeout(no market feed received within the timeout interval)\n",
    "    # 2: Market Feed\n",
    "    # Otherwise, an error occurs.\n",
    "    while hbt.wait_next_feed(False, timeout) in [0, 2]: \n",
    "        depth = hbt.depth(asset_no)\n",
    "\n",
    "        best_bid = depth.best_bid\n",
    "        best_ask = depth.best_ask\n",
    "        best_bid_qty = depth.bid_qty_at_tick(depth.best_bid_tick)\n",
    "        best_ask_qty = depth.ask_qty_at_tick(depth.best_ask_tick)\n",
    "        \n",
    "        if (\n",
    "            best_bid != prev_best_bid \n",
    "            or best_ask != prev_best_ask\n",
    "            or best_bid_qty != prev_best_bid_qty\n",
    "            or best_ask_qty != prev_best_ask_qty\n",
    "        ):\n",
    "            l2_bbo[t, 0] = hbt.current_timestamp\n",
    "            l2_bbo[t, 1] = prev_best_bid = best_bid\n",
    "            l2_bbo[t, 2] = prev_best_ask = best_ask\n",
    "            l2_bbo[t, 3] = prev_best_bid_qty = best_bid_qty\n",
    "            l2_bbo[t, 4] = prev_best_ask_qty = best_ask_qty\n",
    "        \n",
    "            t += 1\n",
    "        \n",
    "            if t >= len(l2_bbo):\n",
    "                raise Exception\n",
    "\n",
    "    return l2_bbo[:t]"
   ]
  },
  {
   "cell_type": "code",
   "execution_count": 4,
   "id": "83544996-c88a-4a30-aa98-5752e7aba17f",
   "metadata": {},
   "outputs": [
    {
     "name": "stdout",
     "output_type": "stream",
     "text": [
      "CPU times: user 38.7 s, sys: 1.75 s, total: 40.4 s\n",
      "Wall time: 40.4 s\n"
     ]
    }
   ],
   "source": [
    "%%time\n",
    "\n",
    "roi_lb = 50000\n",
    "roi_ub = 150000\n",
    "\n",
    "asset = (\n",
    "    BacktestAsset()\n",
    "        .data(['BTCUSDT_20250501.npz'])\n",
    "        .linear_asset(1.0) \n",
    "        .constant_order_latency(0, 0)\n",
    "        .power_prob_queue_model(2)\n",
    "        .no_partial_fill_exchange()\n",
    "        .trading_value_fee_model(-0.00005, 0.0007)\n",
    "        .tick_size(0.1)\n",
    "        .lot_size(0.001)\n",
    "        .roi_lb(roi_lb)    \n",
    "        .roi_ub(roi_ub)\n",
    ")\n",
    "\n",
    "hbt = ROIVectorMarketDepthBacktest([asset])\n",
    "\n",
    "timeout = 100_000_000 # 100ms\n",
    "\n",
    "l2_bbo = record_l2_bbo(\n",
    "    hbt,\n",
    "    timeout\n",
    ")\n",
    "\n",
    "_ = hbt.close()"
   ]
  },
  {
   "cell_type": "markdown",
   "id": "6a820163-b00b-4841-8dda-b1fe1427a78c",
   "metadata": {},
   "source": [
    "## Comparing BBO updates: Level-2 (depth@0ms) Stream vs bookTicker Stream\n",
    "\n",
    "The `bookTicker` stream delivers updates more often and leads the Level-2 feed by a small margin."
   ]
  },
  {
   "cell_type": "code",
   "execution_count": 5,
   "id": "f861510b-fcbd-419f-bb92-e180fcf4a60e",
   "metadata": {},
   "outputs": [],
   "source": [
    "import polars as pl\n",
    "from matplotlib import pyplot as plt"
   ]
  },
  {
   "cell_type": "code",
   "execution_count": 6,
   "id": "95df5e7f-54ed-4893-baa4-a1480d331b64",
   "metadata": {},
   "outputs": [],
   "source": [
    "df_l2_bbo = pl.DataFrame(l2_bbo)\n",
    "df_l2_bbo.columns = ['Local Timestamp', 'Bid', 'Ask', 'Bid Qty', 'Ask Qty']\n",
    "\n",
    "df_l2_bbo = df_l2_bbo.with_columns(\n",
    "    pl.from_epoch('Local Timestamp', time_unit='ns')\n",
    ").filter(\n",
    "    (pl.col('Local Timestamp') > pl.lit('2025-05-01 14:36:03').str.strptime(pl.Datetime, '%Y-%m-%d %H:%M:%S')) &\n",
    "    (pl.col('Local Timestamp') < pl.lit('2025-05-01 14:36:5').str.strptime(pl.Datetime, '%Y-%m-%d %H:%M:%S'))\n",
    ")"
   ]
  },
  {
   "cell_type": "code",
   "execution_count": 7,
   "id": "52f78c79-21a9-47a3-abc3-7b284f17e9ec",
   "metadata": {},
   "outputs": [],
   "source": [
    "df_book_ticker = pl.read_csv('BTCUSDT_book_ticker_20250501.csv.gz').with_columns(\n",
    "    pl.from_epoch('local_timestamp', time_unit='us')\n",
    ").select(\n",
    "    'local_timestamp', 'bid_price', 'ask_price', 'bid_amount', 'ask_amount'\n",
    ").filter(\n",
    "    (pl.col('local_timestamp') > pl.lit('2025-05-01 14:36:03').str.strptime(pl.Datetime, '%Y-%m-%d %H:%M:%S')) &\n",
    "    (pl.col('local_timestamp') < pl.lit('2025-05-01 14:36:5').str.strptime(pl.Datetime, '%Y-%m-%d %H:%M:%S'))\n",
    ")"
   ]
  },
  {
   "cell_type": "code",
   "execution_count": 8,
   "id": "3ebb0e42-ea5e-4007-8478-38e9212003c6",
   "metadata": {},
   "outputs": [
    {
     "data": {
      "image/png": "[encoded data removed]",
      "text/plain": [
       "<Figure size 2000x800 with 1 Axes>"
      ]
     },
     "metadata": {},
     "output_type": "display_data"
    }
   ],
   "source": [
    "plt.figure(figsize=(20, 8))\n",
    "plt.step(df_l2_bbo['Local Timestamp'], df_l2_bbo['Bid'], where='post')\n",
    "plt.step(df_book_ticker['local_timestamp'], df_book_ticker['bid_price'], where='post')\n",
    "plt.legend(['depth@0ms BBO', 'bookTicker BBO'])\n",
    "plt.grid()"
   ]
  },
  {
   "cell_type": "markdown",
   "id": "746b8501-2afe-4211-8b3c-3b747650662f",
   "metadata": {},
   "source": [
    "You’ll notice that the `bookTicker` stream delivers updates far more frequently—especially when you factor in changes to both price and quantity."
   ]
  },
  {
   "cell_type": "code",
   "execution_count": 9,
   "id": "1446b2a4-0045-4748-a925-0ced0d4e3338",
   "metadata": {},
   "outputs": [
    {
     "name": "stdout",
     "output_type": "stream",
     "text": [
      "shape: (39, 5)\n",
      "┌───────────────────────────────┬─────────┬─────────┬─────────┬─────────┐\n",
      "│ Local Timestamp               ┆ Bid     ┆ Ask     ┆ Bid Qty ┆ Ask Qty │\n",
      "│ ---                           ┆ ---     ┆ ---     ┆ ---     ┆ ---     │\n",
      "│ datetime[ns]                  ┆ f64     ┆ f64     ┆ f64     ┆ f64     │\n",
      "╞═══════════════════════════════╪═════════╪═════════╪═════════╪═════════╡\n",
      "│ 2025-05-01 14:36:03.008176128 ┆ 96351.4 ┆ 96351.5 ┆ 6.344   ┆ 7.159   │\n",
      "│ 2025-05-01 14:36:03.060811008 ┆ 96351.4 ┆ 96351.5 ┆ 6.368   ┆ 1.297   │\n",
      "│ 2025-05-01 14:36:03.112276992 ┆ 96351.4 ┆ 96351.5 ┆ 6.528   ┆ 0.128   │\n",
      "│ 2025-05-01 14:36:03.163234048 ┆ 96351.4 ┆ 96351.5 ┆ 6.878   ┆ 0.188   │\n",
      "│ 2025-05-01 14:36:03.215074048 ┆ 96351.4 ┆ 96351.5 ┆ 6.584   ┆ 2.819   │\n",
      "│ 2025-05-01 14:36:03.266274048 ┆ 96351.4 ┆ 96351.5 ┆ 6.399   ┆ 1.996   │\n",
      "│ 2025-05-01 14:36:03.316154112 ┆ 96351.4 ┆ 96351.5 ┆ 6.399   ┆ 2.127   │\n",
      "│ 2025-05-01 14:36:03.369733888 ┆ 96363.4 ┆ 96380.3 ┆ 1.12    ┆ 0.006   │\n",
      "│ 2025-05-01 14:36:03.421906944 ┆ 96379.6 ┆ 96379.7 ┆ 0.438   ┆ 0.036   │\n",
      "│ 2025-05-01 14:36:03.472250880 ┆ 96385.9 ┆ 96387.3 ┆ 0.876   ┆ 0.201   │\n",
      "│ 2025-05-01 14:36:03.522233088 ┆ 96387.3 ┆ 96388.0 ┆ 0.029   ┆ 0.034   │\n",
      "│ 2025-05-01 14:36:03.573129984 ┆ 96387.3 ┆ 96388.0 ┆ 0.446   ┆ 0.235   │\n",
      "│ 2025-05-01 14:36:03.624218112 ┆ 96387.9 ┆ 96388.0 ┆ 1.641   ┆ 1.045   │\n",
      "│ 2025-05-01 14:36:03.675269120 ┆ 96387.9 ┆ 96388.0 ┆ 8.122   ┆ 1.654   │\n",
      "│ 2025-05-01 14:36:03.726845952 ┆ 96398.6 ┆ 96402.2 ┆ 0.311   ┆ 0.116   │\n",
      "│ 2025-05-01 14:36:03.777195008 ┆ 96407.8 ┆ 96413.7 ┆ 0.46    ┆ 0.104   │\n",
      "│ 2025-05-01 14:36:03.829007104 ┆ 96410.9 ┆ 96414.1 ┆ 0.36    ┆ 0.981   │\n",
      "│ 2025-05-01 14:36:03.879574016 ┆ 96412.8 ┆ 96414.1 ┆ 0.291   ┆ 0.016   │\n",
      "│ 2025-05-01 14:36:03.929277952 ┆ 96410.9 ┆ 96412.0 ┆ 0.852   ┆ 0.005   │\n",
      "│ 2025-05-01 14:36:03.985562880 ┆ 96414.7 ┆ 96415.0 ┆ 0.07    ┆ 0.005   │\n",
      "│ 2025-05-01 14:36:04.032508928 ┆ 96414.7 ┆ 96415.1 ┆ 5.581   ┆ 0.06    │\n",
      "│ 2025-05-01 14:36:04.082749952 ┆ 96408.5 ┆ 96410.0 ┆ 0.388   ┆ 0.025   │\n",
      "│ 2025-05-01 14:36:04.134117120 ┆ 96404.7 ┆ 96406.0 ┆ 0.002   ┆ 0.65    │\n",
      "│ 2025-05-01 14:36:04.185359104 ┆ 96404.7 ┆ 96405.8 ┆ 0.002   ┆ 0.37    │\n",
      "│ 2025-05-01 14:36:04.235608064 ┆ 96403.7 ┆ 96405.8 ┆ 0.02    ┆ 0.783   │\n",
      "│ 2025-05-01 14:36:04.287187968 ┆ 96403.6 ┆ 96404.9 ┆ 0.249   ┆ 2.194   │\n",
      "│ 2025-05-01 14:36:04.338068992 ┆ 96402.1 ┆ 96404.9 ┆ 0.042   ┆ 3.069   │\n",
      "│ 2025-05-01 14:36:04.388464128 ┆ 96404.7 ┆ 96404.9 ┆ 0.13    ┆ 2.421   │\n",
      "│ 2025-05-01 14:36:04.440344064 ┆ 96404.6 ┆ 96404.9 ┆ 0.435   ┆ 4.269   │\n",
      "│ 2025-05-01 14:36:04.490669056 ┆ 96404.6 ┆ 96404.8 ┆ 0.603   ┆ 1.21    │\n",
      "│ 2025-05-01 14:36:04.541093120 ┆ 96404.6 ┆ 96404.8 ┆ 0.839   ┆ 3.744   │\n",
      "│ 2025-05-01 14:36:04.594004992 ┆ 96404.6 ┆ 96404.7 ┆ 0.841   ┆ 0.761   │\n",
      "│ 2025-05-01 14:36:04.644099072 ┆ 96404.6 ┆ 96404.7 ┆ 0.961   ┆ 2.639   │\n",
      "│ 2025-05-01 14:36:04.694644992 ┆ 96404.6 ┆ 96404.7 ┆ 5.782   ┆ 3.732   │\n",
      "│ 2025-05-01 14:36:04.746102016 ┆ 96404.6 ┆ 96404.7 ┆ 6.503   ┆ 6.072   │\n",
      "│ 2025-05-01 14:36:04.797575936 ┆ 96404.6 ┆ 96404.7 ┆ 6.541   ┆ 6.28    │\n",
      "│ 2025-05-01 14:36:04.848253952 ┆ 96404.6 ┆ 96404.7 ┆ 5.084   ┆ 7.323   │\n",
      "│ 2025-05-01 14:36:04.898958080 ┆ 96404.6 ┆ 96404.7 ┆ 5.107   ┆ 4.868   │\n",
      "│ 2025-05-01 14:36:04.951334912 ┆ 96404.6 ┆ 96404.7 ┆ 5.001   ┆ 5.284   │\n",
      "└───────────────────────────────┴─────────┴─────────┴─────────┴─────────┘\n"
     ]
    }
   ],
   "source": [
    "with pl.Config(tbl_rows=100):\n",
    "    print(df_l2_bbo)"
   ]
  },
  {
   "cell_type": "code",
   "execution_count": 10,
   "id": "09fdd1d8-051f-45d1-9c01-00265a090637",
   "metadata": {},
   "outputs": [
    {
     "name": "stdout",
     "output_type": "stream",
     "text": [
      "shape: (1_432, 5)\n",
      "┌────────────────────────────┬───────────┬───────────┬────────────┬────────────┐\n",
      "│ local_timestamp            ┆ bid_price ┆ ask_price ┆ bid_amount ┆ ask_amount │\n",
      "│ ---                        ┆ ---       ┆ ---       ┆ ---        ┆ ---        │\n",
      "│ datetime[μs]               ┆ f64       ┆ f64       ┆ f64        ┆ f64        │\n",
      "╞════════════════════════════╪═══════════╪═══════════╪════════════╪════════════╡\n",
      "│ 2025-05-01 14:36:03.027063 ┆ 96351.4   ┆ 96351.5   ┆ 6.338      ┆ 7.157      │\n",
      "│ 2025-05-01 14:36:03.027070 ┆ 96351.4   ┆ 96351.5   ┆ 6.338      ┆ 7.154      │\n",
      "│ 2025-05-01 14:36:03.027072 ┆ 96351.4   ┆ 96351.5   ┆ 6.338      ┆ 7.121      │\n",
      "│ 2025-05-01 14:36:03.029315 ┆ 96351.4   ┆ 96351.5   ┆ 6.35       ┆ 7.121      │\n",
      "│ 2025-05-01 14:36:03.030317 ┆ 96351.4   ┆ 96351.5   ┆ 6.338      ┆ 7.121      │\n",
      "│ 2025-05-01 14:36:03.045954 ┆ 96351.4   ┆ 96351.5   ┆ 6.338      ┆ 7.119      │\n",
      "│ 2025-05-01 14:36:03.049547 ┆ 96351.4   ┆ 96351.5   ┆ 6.348      ┆ 7.119      │\n",
      "│ 2025-05-01 14:36:03.050625 ┆ 96351.4   ┆ 96351.5   ┆ 6.348      ┆ 4.174      │\n",
      "│ 2025-05-01 14:36:03.050627 ┆ 96351.4   ┆ 96351.5   ┆ 6.348      ┆ 2.452      │\n",
      "│ 2025-05-01 14:36:03.050627 ┆ 96351.4   ┆ 96351.5   ┆ 6.348      ┆ 2.395      │\n",
      "│ 2025-05-01 14:36:03.051616 ┆ 96351.4   ┆ 96351.5   ┆ 6.348      ┆ 1.764      │\n",
      "│ 2025-05-01 14:36:03.052630 ┆ 96351.4   ┆ 96351.5   ┆ 6.358      ┆ 1.764      │\n",
      "│ 2025-05-01 14:36:03.052633 ┆ 96351.4   ┆ 96351.5   ┆ 6.358      ┆ 1.762      │\n",
      "│ 2025-05-01 14:36:03.052634 ┆ 96351.4   ┆ 96351.5   ┆ 6.358      ┆ 1.764      │\n",
      "│ 2025-05-01 14:36:03.053796 ┆ 96351.4   ┆ 96351.5   ┆ 6.36       ┆ 1.764      │\n",
      "│ 2025-05-01 14:36:03.053797 ┆ 96351.4   ┆ 96351.5   ┆ 6.36       ┆ 1.762      │\n",
      "│ 2025-05-01 14:36:03.054626 ┆ 96351.4   ┆ 96351.5   ┆ 6.354      ┆ 1.762      │\n",
      "│ 2025-05-01 14:36:03.054629 ┆ 96351.4   ┆ 96351.5   ┆ 6.354      ┆ 1.737      │\n",
      "│ 2025-05-01 14:36:03.054634 ┆ 96351.4   ┆ 96351.5   ┆ 6.354      ┆ 1.349      │\n",
      "│ 2025-05-01 14:36:03.055714 ┆ 96351.4   ┆ 96351.5   ┆ 6.364      ┆ 1.349      │\n",
      "│ 2025-05-01 14:36:03.056808 ┆ 96351.4   ┆ 96351.5   ┆ 6.364      ┆ 1.297      │\n",
      "│ 2025-05-01 14:36:03.059917 ┆ 96351.4   ┆ 96351.5   ┆ 6.366      ┆ 1.297      │\n",
      "│ 2025-05-01 14:36:03.059917 ┆ 96351.4   ┆ 96351.5   ┆ 6.368      ┆ 1.297      │\n",
      "│ 2025-05-01 14:36:03.064652 ┆ 96351.4   ┆ 96351.5   ┆ 6.368      ┆ 1.201      │\n",
      "│ 2025-05-01 14:36:03.064653 ┆ 96351.4   ┆ 96351.5   ┆ 6.368      ┆ 1.087      │\n",
      "│ 2025-05-01 14:36:03.064656 ┆ 96351.4   ┆ 96351.5   ┆ 6.368      ┆ 1.038      │\n",
      "│ 2025-05-01 14:36:03.064660 ┆ 96351.4   ┆ 96351.5   ┆ 6.368      ┆ 0.937      │\n",
      "│ 2025-05-01 14:36:03.064661 ┆ 96351.4   ┆ 96351.5   ┆ 6.368      ┆ 0.679      │\n",
      "│ 2025-05-01 14:36:03.064663 ┆ 96351.4   ┆ 96351.5   ┆ 6.368      ┆ 0.592      │\n",
      "│ 2025-05-01 14:36:03.067917 ┆ 96351.4   ┆ 96351.5   ┆ 6.368      ┆ 0.702      │\n",
      "│ 2025-05-01 14:36:03.069890 ┆ 96351.4   ┆ 96351.5   ┆ 6.498      ┆ 0.702      │\n",
      "│ 2025-05-01 14:36:03.071890 ┆ 96351.4   ┆ 96351.5   ┆ 6.492      ┆ 0.702      │\n",
      "│ 2025-05-01 14:36:03.071894 ┆ 96351.4   ┆ 96351.5   ┆ 6.492      ┆ 0.592      │\n",
      "│ 2025-05-01 14:36:03.071897 ┆ 96351.4   ┆ 96351.5   ┆ 6.498      ┆ 0.592      │\n",
      "│ 2025-05-01 14:36:03.074200 ┆ 96351.4   ┆ 96351.5   ┆ 6.498      ┆ 0.702      │\n",
      "│ 2025-05-01 14:36:03.078112 ┆ 96351.4   ┆ 96351.5   ┆ 6.508      ┆ 0.702      │\n",
      "│ 2025-05-01 14:36:03.092415 ┆ 96351.4   ┆ 96351.5   ┆ 6.508      ┆ 0.592      │\n",
      "│ 2025-05-01 14:36:03.095210 ┆ 96351.4   ┆ 96351.5   ┆ 6.858      ┆ 0.592      │\n",
      "│ 2025-05-01 14:36:03.097268 ┆ 96351.4   ┆ 96351.5   ┆ 6.868      ┆ 0.592      │\n",
      "│ 2025-05-01 14:36:03.097274 ┆ 96351.4   ┆ 96351.5   ┆ 6.862      ┆ 0.592      │\n",
      "│ 2025-05-01 14:36:03.097277 ┆ 96351.4   ┆ 96351.5   ┆ 6.868      ┆ 0.592      │\n",
      "│ 2025-05-01 14:36:03.098526 ┆ 96351.4   ┆ 96351.5   ┆ 6.878      ┆ 0.592      │\n",
      "│ 2025-05-01 14:36:03.099564 ┆ 96351.4   ┆ 96351.5   ┆ 6.878      ┆ 0.385      │\n",
      "│ 2025-05-01 14:36:03.099566 ┆ 96351.4   ┆ 96351.5   ┆ 6.878      ┆ 0.178      │\n",
      "│ 2025-05-01 14:36:03.102809 ┆ 96351.4   ┆ 96351.5   ┆ 6.878      ┆ 0.147      │\n",
      "│ 2025-05-01 14:36:03.102809 ┆ 96351.4   ┆ 96351.5   ┆ 6.878      ┆ 0.145      │\n",
      "│ 2025-05-01 14:36:03.102840 ┆ 96351.4   ┆ 96351.5   ┆ 6.878      ┆ 0.124      │\n",
      "│ 2025-05-01 14:36:03.104977 ┆ 96351.4   ┆ 96351.5   ┆ 6.878      ┆ 0.126      │\n",
      "│ 2025-05-01 14:36:03.105552 ┆ 96351.4   ┆ 96351.5   ┆ 6.878      ┆ 0.128      │\n",
      "│ 2025-05-01 14:36:03.108741 ┆ 96351.4   ┆ 96351.5   ┆ 6.528      ┆ 0.128      │\n",
      "│ …                          ┆ …         ┆ …         ┆ …          ┆ …          │\n",
      "│ 2025-05-01 14:36:04.888094 ┆ 96404.6   ┆ 96404.7   ┆ 5.107      ┆ 5.431      │\n",
      "│ 2025-05-01 14:36:04.888317 ┆ 96404.6   ┆ 96404.7   ┆ 5.107      ┆ 5.051      │\n",
      "│ 2025-05-01 14:36:04.888318 ┆ 96404.6   ┆ 96404.7   ┆ 5.107      ┆ 4.335      │\n",
      "│ 2025-05-01 14:36:04.888320 ┆ 96404.6   ┆ 96404.7   ┆ 5.107      ┆ 4.323      │\n",
      "│ 2025-05-01 14:36:04.888773 ┆ 96404.6   ┆ 96404.7   ┆ 5.107      ┆ 3.517      │\n",
      "│ 2025-05-01 14:36:04.888778 ┆ 96404.6   ┆ 96404.7   ┆ 5.117      ┆ 3.517      │\n",
      "│ 2025-05-01 14:36:04.888779 ┆ 96404.6   ┆ 96404.7   ┆ 5.117      ┆ 3.567      │\n",
      "│ 2025-05-01 14:36:04.890093 ┆ 96404.6   ┆ 96404.7   ┆ 5.117      ┆ 3.217      │\n",
      "│ 2025-05-01 14:36:04.890110 ┆ 96404.6   ┆ 96404.7   ┆ 5.117      ┆ 3.248      │\n",
      "│ 2025-05-01 14:36:04.890111 ┆ 96404.6   ┆ 96404.7   ┆ 5.107      ┆ 3.248      │\n",
      "│ 2025-05-01 14:36:04.890749 ┆ 96404.6   ┆ 96404.7   ┆ 5.107      ┆ 3.25       │\n",
      "│ 2025-05-01 14:36:04.890756 ┆ 96404.6   ┆ 96404.7   ┆ 5.107      ┆ 3.253      │\n",
      "│ 2025-05-01 14:36:04.890757 ┆ 96404.6   ┆ 96404.7   ┆ 5.107      ┆ 3.703      │\n",
      "│ 2025-05-01 14:36:04.890758 ┆ 96404.6   ┆ 96404.7   ┆ 5.107      ┆ 3.701      │\n",
      "│ 2025-05-01 14:36:04.893901 ┆ 96404.6   ┆ 96404.7   ┆ 5.107      ┆ 3.703      │\n",
      "│ 2025-05-01 14:36:04.894774 ┆ 96404.6   ┆ 96404.7   ┆ 5.107      ┆ 4.208      │\n",
      "│ 2025-05-01 14:36:04.894778 ┆ 96404.6   ┆ 96404.7   ┆ 5.107      ┆ 4.207      │\n",
      "│ 2025-05-01 14:36:04.896090 ┆ 96404.6   ┆ 96404.7   ┆ 5.107      ┆ 4.208      │\n",
      "│ 2025-05-01 14:36:04.898233 ┆ 96404.6   ┆ 96404.7   ┆ 5.107      ┆ 4.868      │\n",
      "│ 2025-05-01 14:36:04.900924 ┆ 96404.6   ┆ 96404.7   ┆ 5.107      ┆ 5.218      │\n",
      "│ 2025-05-01 14:36:04.900929 ┆ 96404.6   ┆ 96404.7   ┆ 5.107      ┆ 4.868      │\n",
      "│ 2025-05-01 14:36:04.900930 ┆ 96404.6   ┆ 96404.7   ┆ 5.107      ┆ 4.867      │\n",
      "│ 2025-05-01 14:36:04.902011 ┆ 96404.6   ┆ 96404.7   ┆ 5.107      ┆ 4.868      │\n",
      "│ 2025-05-01 14:36:04.917421 ┆ 96404.6   ┆ 96404.7   ┆ 5.107      ┆ 4.934      │\n",
      "│ 2025-05-01 14:36:04.919464 ┆ 96404.6   ┆ 96404.7   ┆ 5.107      ┆ 4.933      │\n",
      "│ 2025-05-01 14:36:04.919471 ┆ 96404.6   ┆ 96404.7   ┆ 5.107      ┆ 4.934      │\n",
      "│ 2025-05-01 14:36:04.931723 ┆ 96404.6   ┆ 96404.7   ┆ 5.001      ┆ 4.934      │\n",
      "│ 2025-05-01 14:36:04.946773 ┆ 96404.6   ┆ 96404.7   ┆ 5.001      ┆ 5.284      │\n",
      "│ 2025-05-01 14:36:04.946775 ┆ 96404.6   ┆ 96404.7   ┆ 5.001      ┆ 5.286      │\n",
      "│ 2025-05-01 14:36:04.946779 ┆ 96404.6   ┆ 96404.7   ┆ 5.001      ┆ 5.809      │\n",
      "│ 2025-05-01 14:36:04.948089 ┆ 96404.6   ┆ 96404.7   ┆ 5.001      ┆ 5.459      │\n",
      "│ 2025-05-01 14:36:04.948091 ┆ 96404.6   ┆ 96404.7   ┆ 5.001      ┆ 4.936      │\n",
      "│ 2025-05-01 14:36:04.948114 ┆ 96404.6   ┆ 96404.7   ┆ 5.001      ┆ 4.935      │\n",
      "│ 2025-05-01 14:36:04.949397 ┆ 96404.6   ┆ 96404.7   ┆ 5.001      ┆ 4.933      │\n",
      "│ 2025-05-01 14:36:04.949402 ┆ 96404.6   ┆ 96404.7   ┆ 5.001      ┆ 4.934      │\n",
      "│ 2025-05-01 14:36:04.949405 ┆ 96404.6   ┆ 96404.7   ┆ 5.001      ┆ 4.932      │\n",
      "│ 2025-05-01 14:36:04.949408 ┆ 96404.6   ┆ 96404.7   ┆ 5.001      ┆ 5.282      │\n",
      "│ 2025-05-01 14:36:04.950159 ┆ 96404.6   ┆ 96404.7   ┆ 5.001      ┆ 5.284      │\n",
      "│ 2025-05-01 14:36:04.951337 ┆ 96404.6   ┆ 96404.7   ┆ 5.001      ┆ 4.934      │\n",
      "│ 2025-05-01 14:36:04.952587 ┆ 96404.6   ┆ 96404.7   ┆ 5.001      ┆ 4.932      │\n",
      "│ 2025-05-01 14:36:04.954760 ┆ 96404.6   ┆ 96404.7   ┆ 5.001      ┆ 5.302      │\n",
      "│ 2025-05-01 14:36:04.955915 ┆ 96404.6   ┆ 96404.7   ┆ 5.001      ┆ 5.301      │\n",
      "│ 2025-05-01 14:36:04.956673 ┆ 96404.6   ┆ 96404.7   ┆ 5.001      ┆ 5.302      │\n",
      "│ 2025-05-01 14:36:04.960766 ┆ 96404.6   ┆ 96404.7   ┆ 5.003      ┆ 5.302      │\n",
      "│ 2025-05-01 14:36:04.970154 ┆ 96404.6   ┆ 96404.7   ┆ 5.003      ┆ 5.3        │\n",
      "│ 2025-05-01 14:36:04.978932 ┆ 96404.6   ┆ 96404.7   ┆ 5.109      ┆ 5.3        │\n",
      "│ 2025-05-01 14:36:04.981128 ┆ 96404.6   ┆ 96404.7   ┆ 5.109      ┆ 5.297      │\n",
      "│ 2025-05-01 14:36:04.981130 ┆ 96404.6   ┆ 96404.7   ┆ 5.103      ┆ 5.297      │\n",
      "│ 2025-05-01 14:36:04.981131 ┆ 96404.6   ┆ 96404.7   ┆ 5.103      ┆ 5.295      │\n",
      "│ 2025-05-01 14:36:04.981142 ┆ 96404.6   ┆ 96404.7   ┆ 5.109      ┆ 5.295      │\n",
      "└────────────────────────────┴───────────┴───────────┴────────────┴────────────┘\n"
     ]
    }
   ],
   "source": [
    "with pl.Config(tbl_rows=100):\n",
    "    print(df_book_ticker)"
   ]
  },
  {
   "cell_type": "markdown",
   "id": "6c1627dd-a627-4e03-ab1f-bcde70f56f00",
   "metadata": {},
   "source": [
    "This tutorial will demonstrate how to merge multiple depth-update streams into a single, high-frequency, fine-grained feed—and show how this fused data improves backtesting results. (to be continued...)"
   ]
  }
 ],
 "metadata": {
  "kernelspec": {
   "display_name": "Python 3 (ipykernel)",
   "language": "python",
   "name": "python3"
  },
  "language_info": {
   "codemirror_mode": {
    "name": "ipython",
    "version": 3
   },
   "file_extension": ".py",
   "mimetype": "text/x-python",
   "name": "python",
   "nbconvert_exporter": "python",
   "pygments_lexer": "ipython3",
   "version": "3.10.14"
  }
 },
 "nbformat": 4,
 "nbformat_minor": 5
}
